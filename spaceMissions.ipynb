{
 "cells": [
  {
   "metadata": {
    "ExecuteTime": {
     "end_time": "2024-12-21T05:57:10.921018Z",
     "start_time": "2024-12-21T05:57:10.104580Z"
    }
   },
   "cell_type": "code",
   "source": [
    "import pandas as pd\n",
    "import numpy as np\n",
    "import matplotlib.pyplot as plt"
   ],
   "id": "491e9d6a7031a05",
   "outputs": [],
   "execution_count": 1
  },
  {
   "metadata": {
    "ExecuteTime": {
     "end_time": "2024-12-21T05:57:12.516653Z",
     "start_time": "2024-12-21T05:57:10.939400Z"
    }
   },
   "cell_type": "code",
   "source": [
    "import kagglehub\n",
    "\n",
    "# Download latest version\n",
    "path = kagglehub.dataset_download(\"sameerk2004/space-missions-dataset\")\n",
    "\n",
    "print(\"Path to dataset files:\", path)"
   ],
   "id": "ea9791f2c8f66028",
   "outputs": [
    {
     "name": "stderr",
     "output_type": "stream",
     "text": [
      "/home/kng/anaconda3/envs/ds-env1/lib/python3.11/site-packages/tqdm/auto.py:21: TqdmWarning: IProgress not found. Please update jupyter and ipywidgets. See https://ipywidgets.readthedocs.io/en/stable/user_install.html\n",
      "  from .autonotebook import tqdm as notebook_tqdm\n"
     ]
    },
    {
     "name": "stdout",
     "output_type": "stream",
     "text": [
      "Warning: Looks like you're using an outdated `kagglehub` version, please consider updating (latest version: 0.3.6)\n",
      "Downloading from https://www.kaggle.com/api/v1/datasets/download/sameerk2004/space-missions-dataset?dataset_version_number=1...\n"
     ]
    },
    {
     "name": "stderr",
     "output_type": "stream",
     "text": [
      "100%|██████████| 17.0k/17.0k [00:00<00:00, 3.12MB/s]"
     ]
    },
    {
     "name": "stdout",
     "output_type": "stream",
     "text": [
      "Extracting files...\n",
      "Path to dataset files: /home/kng/.cache/kagglehub/datasets/sameerk2004/space-missions-dataset/versions/1\n"
     ]
    },
    {
     "name": "stderr",
     "output_type": "stream",
     "text": [
      "\n"
     ]
    }
   ],
   "execution_count": 2
  },
  {
   "metadata": {
    "ExecuteTime": {
     "end_time": "2024-12-21T06:00:20.063284Z",
     "start_time": "2024-12-21T06:00:20.032637Z"
    }
   },
   "cell_type": "code",
   "source": [
    "df = pd.read_csv(\"data/space_missions_dataset.csv\")\n",
    "df.set_index(\"Mission ID\", inplace=True)\n",
    "df.info()"
   ],
   "id": "99662c50be02e961",
   "outputs": [
    {
     "name": "stdout",
     "output_type": "stream",
     "text": [
      "<class 'pandas.core.frame.DataFrame'>\n",
      "Index: 500 entries, MSN-0001 to MSN-0500\n",
      "Data columns (total 14 columns):\n",
      " #   Column                             Non-Null Count  Dtype  \n",
      "---  ------                             --------------  -----  \n",
      " 0   Mission Name                       500 non-null    object \n",
      " 1   Launch Date                        500 non-null    object \n",
      " 2   Target Type                        500 non-null    object \n",
      " 3   Target Name                        500 non-null    object \n",
      " 4   Mission Type                       500 non-null    object \n",
      " 5   Distance from Earth (light-years)  500 non-null    float64\n",
      " 6   Mission Duration (years)           500 non-null    float64\n",
      " 7   Mission Cost (billion USD)         500 non-null    float64\n",
      " 8   Scientific Yield (points)          500 non-null    float64\n",
      " 9   Crew Size                          500 non-null    int64  \n",
      " 10  Mission Success (%)                500 non-null    float64\n",
      " 11  Fuel Consumption (tons)            500 non-null    float64\n",
      " 12  Payload Weight (tons)              500 non-null    float64\n",
      " 13  Launch Vehicle                     500 non-null    object \n",
      "dtypes: float64(7), int64(1), object(6)\n",
      "memory usage: 58.6+ KB\n"
     ]
    }
   ],
   "execution_count": 5
  },
  {
   "metadata": {},
   "cell_type": "code",
   "outputs": [],
   "execution_count": null,
   "source": "",
   "id": "e947197afab21ced"
  }
 ],
 "metadata": {
  "kernelspec": {
   "display_name": "Python 3",
   "language": "python",
   "name": "python3"
  },
  "language_info": {
   "codemirror_mode": {
    "name": "ipython",
    "version": 2
   },
   "file_extension": ".py",
   "mimetype": "text/x-python",
   "name": "python",
   "nbconvert_exporter": "python",
   "pygments_lexer": "ipython2",
   "version": "2.7.6"
  }
 },
 "nbformat": 4,
 "nbformat_minor": 5
}
